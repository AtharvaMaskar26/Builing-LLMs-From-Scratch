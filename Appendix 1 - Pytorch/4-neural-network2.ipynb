{
 "cells": [
  {
   "cell_type": "code",
   "execution_count": 1,
   "metadata": {},
   "outputs": [],
   "source": [
    "from typing import List\n",
    "\n",
    "import torch\n",
    "from torch.utils.data import Dataset, DataLoader\n",
    "\n",
    "import pandas as pd\n",
    "import numpy as np"
   ]
  },
  {
   "cell_type": "code",
   "execution_count": 2,
   "metadata": {},
   "outputs": [
    {
     "data": {
      "text/html": [
       "<div>\n",
       "<style scoped>\n",
       "    .dataframe tbody tr th:only-of-type {\n",
       "        vertical-align: middle;\n",
       "    }\n",
       "\n",
       "    .dataframe tbody tr th {\n",
       "        vertical-align: top;\n",
       "    }\n",
       "\n",
       "    .dataframe thead th {\n",
       "        text-align: right;\n",
       "    }\n",
       "</style>\n",
       "<table border=\"1\" class=\"dataframe\">\n",
       "  <thead>\n",
       "    <tr style=\"text-align: right;\">\n",
       "      <th></th>\n",
       "      <th>YearsExperience</th>\n",
       "      <th>Salary</th>\n",
       "    </tr>\n",
       "  </thead>\n",
       "  <tbody>\n",
       "    <tr>\n",
       "      <th>0</th>\n",
       "      <td>1.2</td>\n",
       "      <td>39344.0</td>\n",
       "    </tr>\n",
       "    <tr>\n",
       "      <th>1</th>\n",
       "      <td>1.4</td>\n",
       "      <td>46206.0</td>\n",
       "    </tr>\n",
       "    <tr>\n",
       "      <th>2</th>\n",
       "      <td>1.6</td>\n",
       "      <td>37732.0</td>\n",
       "    </tr>\n",
       "    <tr>\n",
       "      <th>3</th>\n",
       "      <td>2.1</td>\n",
       "      <td>43526.0</td>\n",
       "    </tr>\n",
       "    <tr>\n",
       "      <th>4</th>\n",
       "      <td>2.3</td>\n",
       "      <td>39892.0</td>\n",
       "    </tr>\n",
       "  </tbody>\n",
       "</table>\n",
       "</div>"
      ],
      "text/plain": [
       "   YearsExperience   Salary\n",
       "0              1.2  39344.0\n",
       "1              1.4  46206.0\n",
       "2              1.6  37732.0\n",
       "3              2.1  43526.0\n",
       "4              2.3  39892.0"
      ]
     },
     "execution_count": 2,
     "metadata": {},
     "output_type": "execute_result"
    }
   ],
   "source": [
    "df = pd.read_csv(\"./data/Salary_dataset.csv\")\n",
    "\n",
    "df = df.drop(columns=['Unnamed: 0'])\n",
    "\n",
    "df.head(5)"
   ]
  },
  {
   "cell_type": "code",
   "execution_count": 3,
   "metadata": {},
   "outputs": [],
   "source": [
    "class SalaryDataset(Dataset):\n",
    "    def __init__(self, X, y):\n",
    "        self.features = torch.tensor(X).to(torch.float32)\n",
    "        self.labels = torch.tensor(y).to(torch.float32)\n",
    "    \n",
    "    def __getitem__(self, index):\n",
    "        feature_item = self.features[index]\n",
    "        label_item = self.labels[index]\n",
    "\n",
    "        return feature_item, label_item\n",
    "    \n",
    "    def __len__(self):\n",
    "        return self.features.shape[0]"
   ]
  },
  {
   "cell_type": "code",
   "execution_count": 4,
   "metadata": {},
   "outputs": [],
   "source": [
    "def train_test_split(X: np.array, y: np.array, test_ratio: float = 0.2) -> List[List]:\n",
    "    \"\"\"\n",
    "    This function splits a dataset into train and test bits\n",
    "    \"\"\"\n",
    "    train_ratio = 1 - test_ratio\n",
    "    length_of_dataset = len(X)\n",
    "\n",
    "    train_split = int(length_of_dataset * train_ratio)\n",
    "\n",
    "    X_train = X[: train_split]\n",
    "    y_train = y[: train_split]\n",
    "\n",
    "    X_test = X[train_split: ]\n",
    "    y_test = X[train_split: ]\n",
    "\n",
    "    return X_train, y_train, X_test, y_test"
   ]
  },
  {
   "cell_type": "code",
   "execution_count": 5,
   "metadata": {},
   "outputs": [],
   "source": [
    "X = df['YearsExperience'].values\n",
    "y = df['Salary'].values"
   ]
  },
  {
   "cell_type": "code",
   "execution_count": 6,
   "metadata": {},
   "outputs": [
    {
     "data": {
      "text/plain": [
       "(array([1.2, 1.4, 1.6, 2.1, 2.3, 3. , 3.1, 3.3, 3.3, 3.8, 4. , 4.1, 4.1,\n",
       "        4.2, 4.6, 5. , 5.2, 5.4, 6. , 6.1, 6.9, 7.2, 8. , 8.3]),\n",
       " array([ 39344.,  46206.,  37732.,  43526.,  39892.,  56643.,  60151.,\n",
       "         54446.,  64446.,  57190.,  63219.,  55795.,  56958.,  57082.,\n",
       "         61112.,  67939.,  66030.,  83089.,  81364.,  93941.,  91739.,\n",
       "         98274., 101303., 113813.]),\n",
       " array([ 8.8,  9.1,  9.6,  9.7, 10.4, 10.6]),\n",
       " array([ 8.8,  9.1,  9.6,  9.7, 10.4, 10.6]))"
      ]
     },
     "execution_count": 6,
     "metadata": {},
     "output_type": "execute_result"
    }
   ],
   "source": [
    "X_train, y_train, X_test, y_test = train_test_split(X, y)\n",
    "\n",
    "X_train, y_train, X_test, y_test"
   ]
  },
  {
   "cell_type": "code",
   "execution_count": 7,
   "metadata": {},
   "outputs": [],
   "source": [
    "train_dataset = SalaryDataset(X=X_train, y=y_train)\n",
    "test_dataset = SalaryDataset(X=X_test, y=y_test)"
   ]
  },
  {
   "cell_type": "code",
   "execution_count": 8,
   "metadata": {},
   "outputs": [],
   "source": [
    "# Loading Dataloaders\n",
    "\n",
    "train_dataloader = DataLoader(\n",
    "    dataset=train_dataset, \n",
    "    batch_size=2,  # You can play around with this batch size\n",
    "    shuffle=True, \n",
    "    num_workers=0, \n",
    "    drop_last=True, # If the last batch is not a multiple of 4 then it will remove it (Uneven batch sizes can cause descripensies in our model)\n",
    ")\n",
    "\n",
    "test_dataloader = DataLoader(\n",
    "    dataset=test_dataset, \n",
    "    batch_size=2, \n",
    "    shuffle=True, \n",
    "    drop_last=True, \n",
    "    num_workers=0\n",
    ")"
   ]
  },
  {
   "cell_type": "code",
   "execution_count": 12,
   "metadata": {},
   "outputs": [],
   "source": [
    "import torch\n",
    "import torch.nn as nn\n",
    "from typing import List\n",
    "\n",
    "class NeuralNetworkCPU(nn.Module):\n",
    "    def __init__(self, num_inputs: int, num_outputs: int = 1) -> None:\n",
    "        super(NeuralNetworkCPU, self).__init__()\n",
    "\n",
    "        self.layers = nn.Sequential(\n",
    "            # 1st Hidden Layer\n",
    "            nn.Linear(num_inputs, 100), \n",
    "            nn.ReLU(), \n",
    "\n",
    "            # 2nd Hidden Layer\n",
    "            nn.Linear(100, 200), \n",
    "            nn.ReLU(), \n",
    "\n",
    "            # 3rd Hidden Layer\n",
    "            nn.Linear(200, 250), \n",
    "            nn.ReLU(), \n",
    "\n",
    "            # 4th Hidden Layer\n",
    "            nn.Linear(250, 200), \n",
    "            nn.ReLU(), \n",
    "\n",
    "            # 5th Hidden Layer\n",
    "            nn.Linear(200, 100), \n",
    "            nn.ReLU(), \n",
    "\n",
    "            # 6th Hidden Layer\n",
    "            nn.Linear(100, 50), \n",
    "            nn.ReLU(), \n",
    "\n",
    "            # Output Layer\n",
    "            nn.Linear(50, num_outputs)\n",
    "        )\n",
    "\n",
    "    def forward(self, input: torch.Tensor) -> torch.Tensor:\n",
    "        \"\"\"\n",
    "        This function performs a forward pass inference of the model \n",
    "        \"\"\"\n",
    "        logits = self.layers(input)\n",
    "        return logits\n"
   ]
  },
  {
   "cell_type": "code",
   "execution_count": 14,
   "metadata": {},
   "outputs": [
    {
     "name": "stdout",
     "output_type": "stream",
     "text": [
      "NaN detected at epoch 1, batch 4\n",
      "Epoch: 001/1000 | Train loss: nan\n",
      "Training stopped due to NaN loss\n"
     ]
    },
    {
     "name": "stderr",
     "output_type": "stream",
     "text": [
      "C:\\Users\\athar\\AppData\\Local\\Temp\\ipykernel_16400\\3862159806.py:27: UserWarning: Using a target size (torch.Size([2])) that is different to the input size (torch.Size([2, 1])). This will likely lead to incorrect results due to broadcasting. Please ensure they have the same size.\n",
      "  loss = F.mse_loss(logits, labels)\n"
     ]
    }
   ],
   "source": [
    "import torch.nn.functional as F\n",
    "\n",
    "# Initialize model and optimizer\n",
    "model = NeuralNetworkCPU(num_inputs=1)\n",
    "optimizer = torch.optim.SGD(model.parameters(), lr=0.001)  # A more reasonable learning rate\n",
    "\n",
    "# Training loop\n",
    "for epoch in range(1000):\n",
    "    model.train()  # Set model to training mode\n",
    "    \n",
    "    # Iterate over batches in the DataLoader\n",
    "    for index, (features, labels) in enumerate(train_dataloader):\n",
    "        \n",
    "        # Ensure the input has the correct shape (batch_size, 1)\n",
    "        features = features.view(-1, 1)  # Reshaping to (batch_size, 1)\n",
    "        \n",
    "        # Ensure the input and labels are not NaN or Inf\n",
    "        assert torch.isnan(features).sum() == 0, \"Input contains NaN\"\n",
    "        assert torch.isinf(features).sum() == 0, \"Input contains Inf\"\n",
    "        assert torch.isnan(labels).sum() == 0, \"Labels contain NaN\"\n",
    "        assert torch.isinf(labels).sum() == 0, \"Labels contain Inf\"\n",
    "\n",
    "        # Forward pass\n",
    "        logits = model(features)\n",
    "\n",
    "        # Compute loss\n",
    "        loss = F.mse_loss(logits, labels)\n",
    "        \n",
    "        # Check if the loss is NaN\n",
    "        if torch.isnan(loss).sum() > 0:\n",
    "            print(f\"NaN detected at epoch {epoch+1}, batch {index+1}\")\n",
    "            break\n",
    "        \n",
    "        # Backpropagation and optimization\n",
    "        optimizer.zero_grad()  # Zero gradients\n",
    "        loss.backward()  # Backpropagate the loss\n",
    "        optimizer.step()  # Update model weights\n",
    "\n",
    "    # Print progress every epoch\n",
    "    print(f\"Epoch: {epoch+1:03d}/1000 | Train loss: {loss:.4f}\")\n",
    "\n",
    "    # If NaN loss detected, break the outer loop\n",
    "    if torch.isnan(loss).sum() > 0:\n",
    "        print(\"Training stopped due to NaN loss\")\n",
    "        break\n"
   ]
  },
  {
   "cell_type": "code",
   "execution_count": null,
   "metadata": {},
   "outputs": [],
   "source": []
  }
 ],
 "metadata": {
  "kernelspec": {
   "display_name": "Python 3",
   "language": "python",
   "name": "python3"
  },
  "language_info": {
   "codemirror_mode": {
    "name": "ipython",
    "version": 3
   },
   "file_extension": ".py",
   "mimetype": "text/x-python",
   "name": "python",
   "nbconvert_exporter": "python",
   "pygments_lexer": "ipython3",
   "version": "3.12.7"
  }
 },
 "nbformat": 4,
 "nbformat_minor": 2
}
