{
 "cells": [
  {
   "cell_type": "code",
   "execution_count": null,
   "metadata": {},
   "outputs": [],
   "source": [
    "import torch"
   ]
  },
  {
   "cell_type": "code",
   "execution_count": 2,
   "metadata": {},
   "outputs": [],
   "source": [
    "X_train = torch.tensor([\n",
    "    [-1.2, 3.1], \n",
    "    [-0.9, 2.9], \n",
    "    [-0.5, 2.6], \n",
    "    [2.3, -1.1],\n",
    "    [2.7, -1.5]\n",
    "])\n",
    "\n",
    "y_train = torch.tensor([0, 0, 0, 1, 1])\n",
    "\n",
    "X_test = torch.tensor([\n",
    "    [-0.8, 2.8], \n",
    "    [2.6, -1.6]\n",
    "])\n",
    "\n",
    "y_test = torch.tensor([0, 1])"
   ]
  },
  {
   "cell_type": "code",
   "execution_count": 3,
   "metadata": {},
   "outputs": [],
   "source": [
    "from torch.utils.data import Dataset\n",
    "\n",
    "class ToyDataset(Dataset):\n",
    "    def __init__(self, X, y):\n",
    "        self.X = X\n",
    "        self.y = y\n",
    "\n",
    "    def __getitem__(self, index):\n",
    "        x_item = self.X[index]\n",
    "        y_item = self.y[index]\n",
    "\n",
    "        return x_item, y_item\n",
    "\n",
    "    def __len__(self):\n",
    "        return self.y.shape[0] "
   ]
  },
  {
   "cell_type": "code",
   "execution_count": 5,
   "metadata": {},
   "outputs": [
    {
     "data": {
      "text/plain": [
       "(5, 2)"
      ]
     },
     "execution_count": 5,
     "metadata": {},
     "output_type": "execute_result"
    }
   ],
   "source": [
    "train_ds = ToyDataset(X_train, y_train)\n",
    "test_ds = ToyDataset(X_test, y_test)\n",
    "\n",
    "len(train_ds), len(test_ds)"
   ]
  },
  {
   "cell_type": "code",
   "execution_count": 21,
   "metadata": {},
   "outputs": [
    {
     "name": "stdout",
     "output_type": "stream",
     "text": [
      "0 - tensor([[ 2.3000, -1.1000],\n",
      "        [-0.5000,  2.6000]]),tensor([1, 0])\n",
      "1 - tensor([[-0.9000,  2.9000],\n",
      "        [ 2.7000, -1.5000]]),tensor([0, 1])\n"
     ]
    }
   ],
   "source": [
    "from torch.utils.data import DataLoader\n",
    "\n",
    "train_dataloader = DataLoader(\n",
    "    train_ds, \n",
    "    batch_size=2, \n",
    "    shuffle=True, \n",
    "    num_workers=0, \n",
    "    drop_last=True\n",
    ")\n",
    "\n",
    "test_loader = DataLoader(\n",
    "    test_ds, \n",
    "    batch_size=2, \n",
    "    shuffle=True, \n",
    "    num_workers=0, \n",
    "    drop_last=True\n",
    ")\n",
    "\n",
    "for index, (x, y) in enumerate(train_dataloader):\n",
    "    print(f\"{index} - {x},{y}\")"
   ]
  },
  {
   "cell_type": "code",
   "execution_count": 8,
   "metadata": {},
   "outputs": [],
   "source": [
    "# Now let's compare performance of a neural network on a CPU vs GPU\n",
    "\n",
    "class NeuralNetworkCPU(torch.nn.Module):\n",
    "    def __init__(self, num_inputs: int, num_outputs: int) -> None:\n",
    "        super().__init__()\n",
    "        self.num_inputs = num_inputs\n",
    "        self.num_outputs = num_outputs\n",
    "\n",
    "        self.layers = torch.nn.Sequential(\n",
    "            # 1st Hidden Layer\n",
    "            torch.nn.Linear(self.num_inputs, 50, device=\"cpu\"),\n",
    "            torch.nn.ReLU(),\n",
    "\n",
    "            # 2nd Hidden Layer\n",
    "            torch.nn.Linear(50, 20), \n",
    "            torch.nn.ReLU(),\n",
    "\n",
    "            # Output Layer\n",
    "            torch.nn.Linear(20, self.num_outputs)\n",
    "        )\n",
    "\n",
    "    def number_of_parameters(self) -> int:\n",
    "        \"\"\"\n",
    "        This function returns the number of trainable parameters in the model\n",
    "        \"\"\"\n",
    "\n",
    "        model = NeuralNetworkCPU(self.num_inputs, self.num_outputs)\n",
    "\n",
    "        num_params = sum([p.numel() for p in model.parameters() if p.requires_grad == True])\n",
    "\n",
    "        return num_params\n",
    "    \n",
    "    def forward(self, x) -> list:\n",
    "        \"\"\"\n",
    "        This function enables the forward pass of the neural networks\n",
    "        \"\"\"\n",
    "\n",
    "        logits = self.layers(x)\n",
    "\n",
    "        return logits"
   ]
  },
  {
   "cell_type": "code",
   "execution_count": 9,
   "metadata": {},
   "outputs": [
    {
     "name": "stdout",
     "output_type": "stream",
     "text": [
      "Epoch: 001/003 | Batch 000/002 | Train loss: 0.82\n",
      "Epoch: 001/003 | Batch 001/002 | Train loss: 0.27\n",
      "Epoch: 002/003 | Batch 000/002 | Train loss: 0.25\n",
      "Epoch: 002/003 | Batch 001/002 | Train loss: 0.06\n",
      "Epoch: 003/003 | Batch 000/002 | Train loss: 0.02\n",
      "Epoch: 003/003 | Batch 001/002 | Train loss: 0.02\n"
     ]
    },
    {
     "data": {
      "text/plain": [
       "NeuralNetworkCPU(\n",
       "  (layers): Sequential(\n",
       "    (0): Linear(in_features=2, out_features=50, bias=True)\n",
       "    (1): ReLU()\n",
       "    (2): Linear(in_features=50, out_features=20, bias=True)\n",
       "    (3): ReLU()\n",
       "    (4): Linear(in_features=20, out_features=2, bias=True)\n",
       "  )\n",
       ")"
      ]
     },
     "execution_count": 9,
     "metadata": {},
     "output_type": "execute_result"
    }
   ],
   "source": [
    "import torch.nn.functional as F\n",
    "\n",
    "torch.manual_seed(123)\n",
    "\n",
    "model = NeuralNetworkCPU(num_inputs=2, num_outputs=2)\n",
    "\n",
    "optimizer = torch.optim.SGD(model.parameters(), lr=0.5)\n",
    "\n",
    "num_epochs = 3\n",
    "\n",
    "for epoch in range(num_epochs):\n",
    "    model.train()\n",
    "\n",
    "    for batch_idx, (features, labels) in enumerate(train_dataloader):\n",
    "        logits = model(features)\n",
    "\n",
    "        loss = F.cross_entropy(logits, labels)\n",
    "\n",
    "        optimizer.zero_grad()\n",
    "\n",
    "        loss.backward()\n",
    "\n",
    "        optimizer.step()\n",
    "\n",
    "        print(f\"\"\"Epoch: {epoch+1:03d}/{num_epochs:03d} | Batch {batch_idx:03d}/{len(train_dataloader):03d} | Train loss: {loss:.2f}\"\"\")\n",
    "\n",
    "model.eval()"
   ]
  },
  {
   "cell_type": "code",
   "execution_count": 10,
   "metadata": {},
   "outputs": [
    {
     "data": {
      "text/plain": [
       "1212"
      ]
     },
     "execution_count": 10,
     "metadata": {},
     "output_type": "execute_result"
    }
   ],
   "source": [
    "model.number_of_parameters()"
   ]
  },
  {
   "cell_type": "code",
   "execution_count": 14,
   "metadata": {},
   "outputs": [
    {
     "name": "stdout",
     "output_type": "stream",
     "text": [
      "tensor([[ 4.1435, -3.3049],\n",
      "        [ 3.6839, -2.9598],\n",
      "        [ 3.0230, -2.4603],\n",
      "        [-1.9138,  1.8427],\n",
      "        [-2.2214,  2.1564]])\n",
      "tensor([[9.9942e-01, 5.8205e-04],\n",
      "        [9.9870e-01, 1.3004e-03],\n",
      "        [9.9586e-01, 4.1388e-03],\n",
      "        [2.2831e-02, 9.7717e-01],\n",
      "        [1.2397e-02, 9.8760e-01]])\n"
     ]
    },
    {
     "data": {
      "text/plain": [
       "tensor([0, 0, 0, 1, 1])"
      ]
     },
     "execution_count": 14,
     "metadata": {},
     "output_type": "execute_result"
    }
   ],
   "source": [
    "# Making predictions\n",
    "with torch.no_grad():\n",
    "    output = model(X_train)\n",
    "    print(output)\n",
    "\n",
    "probabilities = torch.softmax(output, dim=1)\n",
    "print(probabilities)\n",
    "\n",
    "predicitons = torch.argmax(probabilities, dim=1)\n",
    "predicitons"
   ]
  },
  {
   "cell_type": "code",
   "execution_count": 15,
   "metadata": {},
   "outputs": [
    {
     "data": {
      "text/plain": [
       "tensor(5)"
      ]
     },
     "execution_count": 15,
     "metadata": {},
     "output_type": "execute_result"
    }
   ],
   "source": [
    "sum(predicitons == y_train)"
   ]
  },
  {
   "cell_type": "code",
   "execution_count": 23,
   "metadata": {},
   "outputs": [],
   "source": [
    "def compute_accuracy(model, dataloader):\n",
    "    model = model.eval()\n",
    "    correct = 0.0\n",
    "    total_examples = 0.0\n",
    "\n",
    "    for idx, (features, labels) in enumerate(dataloader):\n",
    "        with torch.no_grad():\n",
    "            logits = model(features)\n",
    "\n",
    "        probabilities = torch.softmax(logits, dim=1)\n",
    "\n",
    "        predicitons = torch.argmax(probabilities, dim=1) # Setting dim 0 will return max of each row\n",
    "\n",
    "        compare = labels == predicitons\n",
    "\n",
    "        correct += sum(compare)\n",
    "\n",
    "        total_examples += len(compare)\n",
    "\n",
    "    return (correct / total_examples).item()"
   ]
  },
  {
   "cell_type": "code",
   "execution_count": 24,
   "metadata": {},
   "outputs": [
    {
     "data": {
      "text/plain": [
       "1.0"
      ]
     },
     "execution_count": 24,
     "metadata": {},
     "output_type": "execute_result"
    }
   ],
   "source": [
    "compute_accuracy(model, test_loader)"
   ]
  },
  {
   "cell_type": "code",
   "execution_count": 26,
   "metadata": {},
   "outputs": [],
   "source": [
    "# Saving and loading the saved model\n",
    "\n",
    "torch.save(model.state_dict(), \"model.pth\")"
   ]
  },
  {
   "cell_type": "code",
   "execution_count": 27,
   "metadata": {},
   "outputs": [
    {
     "name": "stderr",
     "output_type": "stream",
     "text": [
      "C:\\Users\\athar\\AppData\\Local\\Temp\\ipykernel_18640\\2666273379.py:3: FutureWarning: You are using `torch.load` with `weights_only=False` (the current default value), which uses the default pickle module implicitly. It is possible to construct malicious pickle data which will execute arbitrary code during unpickling (See https://github.com/pytorch/pytorch/blob/main/SECURITY.md#untrusted-models for more details). In a future release, the default value for `weights_only` will be flipped to `True`. This limits the functions that could be executed during unpickling. Arbitrary objects will no longer be allowed to be loaded via this mode unless they are explicitly allowlisted by the user via `torch.serialization.add_safe_globals`. We recommend you start setting `weights_only=True` for any use case where you don't have full control of the loaded file. Please open an issue on GitHub for any issues related to this experimental feature.\n",
      "  model.load_state_dict(torch.load(\"model.pth\"))\n"
     ]
    },
    {
     "data": {
      "text/plain": [
       "<All keys matched successfully>"
      ]
     },
     "execution_count": 27,
     "metadata": {},
     "output_type": "execute_result"
    }
   ],
   "source": [
    "model = NeuralNetworkCPU(2, 2)\n",
    "\n",
    "model.load_state_dict(torch.load(\"model.pth\"))"
   ]
  }
 ],
 "metadata": {
  "kernelspec": {
   "display_name": "Python 3",
   "language": "python",
   "name": "python3"
  },
  "language_info": {
   "codemirror_mode": {
    "name": "ipython",
    "version": 3
   },
   "file_extension": ".py",
   "mimetype": "text/x-python",
   "name": "python",
   "nbconvert_exporter": "python",
   "pygments_lexer": "ipython3",
   "version": "3.12.7"
  }
 },
 "nbformat": 4,
 "nbformat_minor": 2
}
